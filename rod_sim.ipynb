{
 "cells": [
  {
   "cell_type": "markdown",
   "metadata": {},
   "source": [
    "# Aluminum Rod Simulation"
   ]
  },
  {
   "cell_type": "markdown",
   "metadata": {},
   "source": [
    "A program to simulate an isolated rod being heated, and undergoing heat loss via convection and radiation. Considers conduction through the rod."
   ]
  },
  {
   "cell_type": "markdown",
   "metadata": {},
   "source": [
    "## Units"
   ]
  },
  {
   "cell_type": "markdown",
   "metadata": {},
   "source": [
    "- Length: m\n",
    "- Temperature: K\n",
    "- Mass: kg\n",
    "- Energy: J\n",
    "- Time: s"
   ]
  },
  {
   "cell_type": "markdown",
   "metadata": {},
   "source": [
    "## Imports"
   ]
  },
  {
   "cell_type": "code",
   "execution_count": 1,
   "metadata": {},
   "outputs": [],
   "source": [
    "import math\n",
    "\n",
    "import numpy as np\n",
    "\n",
    "import matplotlib.pyplot as plt\n"
   ]
  },
  {
   "cell_type": "markdown",
   "metadata": {},
   "source": [
    "## Physical Constants"
   ]
  },
  {
   "cell_type": "code",
   "execution_count": 2,
   "metadata": {},
   "outputs": [],
   "source": [
    "sigma = 5.67 * 10 ** (-8) # Stefan-Boltzmann, W / (m^2 K^4)"
   ]
  },
  {
   "cell_type": "markdown",
   "metadata": {},
   "source": [
    "## Auxiliary Functions"
   ]
  },
  {
   "cell_type": "code",
   "execution_count": 3,
   "metadata": {},
   "outputs": [],
   "source": [
    "def celsius_to_kelvin(T_C):\n",
    "    return T_C + 273.15"
   ]
  },
  {
   "cell_type": "markdown",
   "metadata": {},
   "source": [
    "## Simulation Parameters + Geometric Properties (customize)"
   ]
  },
  {
   "cell_type": "code",
   "execution_count": 4,
   "metadata": {},
   "outputs": [],
   "source": [
    "# rod length\n",
    "L = 0.3 # m\n",
    "\n",
    "# dt + N slices -> dx\n",
    "dt = 0.01 # s\n",
    "\n",
    "N = 60\n",
    "dx = L / N # m\n",
    "\n",
    "r = 0.01 # m\n",
    "\n",
    "cross_A = math.pi * r ** 2 # m^2\n",
    "\n",
    "surface_A = np.array([2 * math.pi * r * dx] * N)\n",
    "surface_A[0] += cross_A\n",
    "surface_A[N-1] += cross_A"
   ]
  },
  {
   "cell_type": "markdown",
   "metadata": {},
   "source": [
    "## Ambient Properties (customize)"
   ]
  },
  {
   "cell_type": "code",
   "execution_count": 5,
   "metadata": {},
   "outputs": [],
   "source": [
    "T_amb = celsius_to_kelvin(20) # K\n",
    "T_0 = celsius_to_kelvin(20)"
   ]
  },
  {
   "cell_type": "markdown",
   "metadata": {},
   "source": [
    "## Thermal Behaviour"
   ]
  },
  {
   "cell_type": "markdown",
   "metadata": {},
   "source": [
    "### Initial Temperature Distribution (customize)"
   ]
  },
  {
   "cell_type": "code",
   "execution_count": 6,
   "metadata": {},
   "outputs": [],
   "source": [
    "def init_temperature():\n",
    "    return np.array([T_0] * N)"
   ]
  },
  {
   "cell_type": "markdown",
   "metadata": {},
   "source": [
    "### Power Input (customize)"
   ]
  },
  {
   "cell_type": "code",
   "execution_count": 7,
   "metadata": {},
   "outputs": [],
   "source": [
    "def power_input(T, P, Pin):\n",
    "    P[0] += Pin"
   ]
  },
  {
   "cell_type": "markdown",
   "metadata": {},
   "source": [
    "### Conduction"
   ]
  },
  {
   "cell_type": "markdown",
   "metadata": {},
   "source": [
    "#### Thermo Function"
   ]
  },
  {
   "cell_type": "code",
   "execution_count": 8,
   "metadata": {},
   "outputs": [],
   "source": [
    "def conduction(T, P, k):\n",
    "    \n",
    "    # conduction temperatures = [T_left T T_right], copy\n",
    "    # the endpoints have the effect of only conducting within the bar, not to/from the outside\n",
    "    T_conduct = np.array([T[0]] + np.ndarray.tolist(T) + [T[N-1]])\n",
    "    \n",
    "    # P_net = P_in - P_out = kA/L ((T[n-1] - T[n]) - (T[n] - T[n+1])) = kA/L (T[n-1] - 2T[n] + T[n+1])\n",
    "    P += (k * cross_A / dx) * (T_conduct[0:N] - 2*T_conduct[1:N+1] + T_conduct[2:N+2])\n",
    "    "
   ]
  },
  {
   "cell_type": "markdown",
   "metadata": {},
   "source": [
    "### Convection"
   ]
  },
  {
   "cell_type": "markdown",
   "metadata": {},
   "source": [
    "#### Thermo Function"
   ]
  },
  {
   "cell_type": "code",
   "execution_count": 9,
   "metadata": {},
   "outputs": [],
   "source": [
    "def convection(T, P, k_c):\n",
    "    P -= surface_A * k_c * (T - T_amb)"
   ]
  },
  {
   "cell_type": "markdown",
   "metadata": {},
   "source": [
    "### Radiation"
   ]
  },
  {
   "cell_type": "markdown",
   "metadata": {},
   "source": [
    "#### Thermo Function"
   ]
  },
  {
   "cell_type": "code",
   "execution_count": 10,
   "metadata": {},
   "outputs": [],
   "source": [
    "def radiation(T, P, e):\n",
    "    P -= surface_A * e * sigma * (T ** 4 - T_amb ** 4)"
   ]
  },
  {
   "cell_type": "markdown",
   "metadata": {},
   "source": [
    "### Calorimetry"
   ]
  },
  {
   "cell_type": "markdown",
   "metadata": {},
   "source": [
    "#### Parameters (customize)"
   ]
  },
  {
   "cell_type": "code",
   "execution_count": 11,
   "metadata": {},
   "outputs": [],
   "source": [
    "rho = 2700 # kg/m^3"
   ]
  },
  {
   "cell_type": "markdown",
   "metadata": {},
   "source": [
    "#### Thermo Function"
   ]
  },
  {
   "cell_type": "code",
   "execution_count": 12,
   "metadata": {},
   "outputs": [],
   "source": [
    "def calorimetry(T, P, c):\n",
    "    \n",
    "    Q = P * dt # P and dt small\n",
    "    \n",
    "    dm = rho * cross_A * dx # dx small\n",
    "    dT = Q / (c * dm)\n",
    "    \n",
    "    T += dT"
   ]
  },
  {
   "cell_type": "markdown",
   "metadata": {},
   "source": [
    "### Master"
   ]
  },
  {
   "cell_type": "code",
   "execution_count": 13,
   "metadata": {},
   "outputs": [],
   "source": [
    "def run_thermal_iter(T, P, Pin, k, k_c, e, c):\n",
    "    \n",
    "    # compute Power\n",
    "    power_input(T, P, Pin)\n",
    "    conduction(T, P, k)\n",
    "    convection(T, P, k_c)\n",
    "    radiation(T, P, e)\n",
    "    \n",
    "    # update Temperature from Power\n",
    "    calorimetry(T, P, c)\n",
    "    "
   ]
  },
  {
   "cell_type": "markdown",
   "metadata": {},
   "source": [
    "## Plotting"
   ]
  },
  {
   "cell_type": "markdown",
   "metadata": {},
   "source": [
    "### Captions"
   ]
  },
  {
   "cell_type": "code",
   "execution_count": 14,
   "metadata": {},
   "outputs": [],
   "source": [
    "#caption_main = \"\""
   ]
  },
  {
   "cell_type": "markdown",
   "metadata": {},
   "source": [
    "### Additional Parameters"
   ]
  },
  {
   "cell_type": "code",
   "execution_count": 15,
   "metadata": {},
   "outputs": [],
   "source": [
    "x_points = np.array(range(N)) * dx"
   ]
  },
  {
   "cell_type": "markdown",
   "metadata": {},
   "source": [
    "### Plot Functions"
   ]
  },
  {
   "cell_type": "code",
   "execution_count": 16,
   "metadata": {},
   "outputs": [],
   "source": [
    "def plot_main(x_vals, y_vals):\n",
    "\n",
    "    fig, ax = plt.subplots()\n",
    "    \n",
    "    ax.set_title(\"Steady State Temperature Distribution in Aluminum Rod\")\n",
    "\n",
    "    ax.set_xlabel(\"x-coordinate (m)\")\n",
    "    ax.set_ylabel(\"Tepmerature (K)\")\n",
    "\n",
    "    ax.plot(x_vals, y_vals, 'bx', label='Simulated Data')\n",
    "\n",
    "    ax.legend()\n",
    "    \n",
    "    #fig.text(0.5, -0.08, caption, ha='center')\n",
    "    \n",
    "    fig.savefig(\"foo.png\")"
   ]
  },
  {
   "cell_type": "markdown",
   "metadata": {},
   "source": [
    "## Simulation"
   ]
  },
  {
   "cell_type": "markdown",
   "metadata": {},
   "source": [
    "### Simulation Auxiliary Functions"
   ]
  },
  {
   "cell_type": "code",
   "execution_count": 17,
   "metadata": {},
   "outputs": [],
   "source": [
    "def init_power():\n",
    "    return np.zeros(N)"
   ]
  },
  {
   "cell_type": "markdown",
   "metadata": {},
   "source": [
    "### Execute Simulation"
   ]
  },
  {
   "cell_type": "code",
   "execution_count": 18,
   "metadata": {},
   "outputs": [],
   "source": [
    "def run_sim(t_max, t_saves, thermo_params):\n",
    "    \n",
    "    \"\"\"\n",
    "    \"\"\"\n",
    "    \n",
    "    ## Flow: in every iteration, find net power flow distribution from temperature distribution in previous iteration\n",
    "    ##       use that to get temperature temperature distribution for the next iteration\n",
    "    \n",
    "    t = 0\n",
    "    \n",
    "    T = init_temperature()\n",
    "    \n",
    "    saved_data = []\n",
    "    \n",
    "    while t < t_max:\n",
    "\n",
    "        # iteration init\n",
    "        P = init_power()\n",
    "        \n",
    "        # run\n",
    "        run_thermal_iter(T, P, *thermo_params)\n",
    "        \n",
    "        t += dt\n",
    "    \n",
    "    # Plot temperature distribution\n",
    "    plot_main(x_points, T)\n",
    "    "
   ]
  },
  {
   "cell_type": "markdown",
   "metadata": {
    "scrolled": true
   },
   "source": [
    "# Curve-fit Optimization"
   ]
  },
  {
   "cell_type": "markdown",
   "metadata": {},
   "source": [
    "## Single Curve-Fit"
   ]
  },
  {
   "cell_type": "code",
   "execution_count": 19,
   "metadata": {},
   "outputs": [],
   "source": [
    "def single_curve_fit(Pin, k, k_c, e, c):\n",
    "    pass"
   ]
  }
 ],
 "metadata": {
  "kernelspec": {
   "display_name": "Python 3",
   "language": "python",
   "name": "python3"
  },
  "language_info": {
   "codemirror_mode": {
    "name": "ipython",
    "version": 3
   },
   "file_extension": ".py",
   "mimetype": "text/x-python",
   "name": "python",
   "nbconvert_exporter": "python",
   "pygments_lexer": "ipython3",
   "version": "3.7.3"
  }
 },
 "nbformat": 4,
 "nbformat_minor": 2
}
